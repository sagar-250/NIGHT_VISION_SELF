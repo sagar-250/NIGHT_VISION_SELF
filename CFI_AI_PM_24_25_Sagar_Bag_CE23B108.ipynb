{
  "nbformat": 4,
  "nbformat_minor": 0,
  "metadata": {
    "colab": {
      "provenance": []
    },
    "kernelspec": {
      "name": "python3",
      "display_name": "Python 3"
    },
    "language_info": {
      "name": "python"
    },
    "accelerator": "GPU"
  },
  "cells": [
    {
      "cell_type": "markdown",
      "source": [
        "# Setup"
      ],
      "metadata": {
        "id": "aVmsGWUFd-tP"
      }
    },
    {
      "cell_type": "code",
      "source": [
        "from google.colab import drive\n",
        "drive.mount('/content/drive')"
      ],
      "metadata": {
        "id": "VMJ4av3_YGjM",
        "outputId": "a88c1f84-5aa5-410d-bc7e-7afe58044cf1",
        "colab": {
          "base_uri": "https://localhost:8080/",
          "height": 321
        }
      },
      "execution_count": null,
      "outputs": [
        {
          "output_type": "error",
          "ename": "MessageError",
          "evalue": "Error: credential propagation was unsuccessful",
          "traceback": [
            "\u001b[0;31m---------------------------------------------------------------------------\u001b[0m",
            "\u001b[0;31mMessageError\u001b[0m                              Traceback (most recent call last)",
            "\u001b[0;32m<ipython-input-29-d5df0069828e>\u001b[0m in \u001b[0;36m<cell line: 2>\u001b[0;34m()\u001b[0m\n\u001b[1;32m      1\u001b[0m \u001b[0;32mfrom\u001b[0m \u001b[0mgoogle\u001b[0m\u001b[0;34m.\u001b[0m\u001b[0mcolab\u001b[0m \u001b[0;32mimport\u001b[0m \u001b[0mdrive\u001b[0m\u001b[0;34m\u001b[0m\u001b[0;34m\u001b[0m\u001b[0m\n\u001b[0;32m----> 2\u001b[0;31m \u001b[0mdrive\u001b[0m\u001b[0;34m.\u001b[0m\u001b[0mmount\u001b[0m\u001b[0;34m(\u001b[0m\u001b[0;34m'/content/drive'\u001b[0m\u001b[0;34m)\u001b[0m\u001b[0;34m\u001b[0m\u001b[0;34m\u001b[0m\u001b[0m\n\u001b[0m",
            "\u001b[0;32m/usr/local/lib/python3.10/dist-packages/google/colab/drive.py\u001b[0m in \u001b[0;36mmount\u001b[0;34m(mountpoint, force_remount, timeout_ms, readonly)\u001b[0m\n\u001b[1;32m     98\u001b[0m \u001b[0;32mdef\u001b[0m \u001b[0mmount\u001b[0m\u001b[0;34m(\u001b[0m\u001b[0mmountpoint\u001b[0m\u001b[0;34m,\u001b[0m \u001b[0mforce_remount\u001b[0m\u001b[0;34m=\u001b[0m\u001b[0;32mFalse\u001b[0m\u001b[0;34m,\u001b[0m \u001b[0mtimeout_ms\u001b[0m\u001b[0;34m=\u001b[0m\u001b[0;36m120000\u001b[0m\u001b[0;34m,\u001b[0m \u001b[0mreadonly\u001b[0m\u001b[0;34m=\u001b[0m\u001b[0;32mFalse\u001b[0m\u001b[0;34m)\u001b[0m\u001b[0;34m:\u001b[0m\u001b[0;34m\u001b[0m\u001b[0;34m\u001b[0m\u001b[0m\n\u001b[1;32m     99\u001b[0m   \u001b[0;34m\"\"\"Mount your Google Drive at the specified mountpoint path.\"\"\"\u001b[0m\u001b[0;34m\u001b[0m\u001b[0;34m\u001b[0m\u001b[0m\n\u001b[0;32m--> 100\u001b[0;31m   return _mount(\n\u001b[0m\u001b[1;32m    101\u001b[0m       \u001b[0mmountpoint\u001b[0m\u001b[0;34m,\u001b[0m\u001b[0;34m\u001b[0m\u001b[0;34m\u001b[0m\u001b[0m\n\u001b[1;32m    102\u001b[0m       \u001b[0mforce_remount\u001b[0m\u001b[0;34m=\u001b[0m\u001b[0mforce_remount\u001b[0m\u001b[0;34m,\u001b[0m\u001b[0;34m\u001b[0m\u001b[0;34m\u001b[0m\u001b[0m\n",
            "\u001b[0;32m/usr/local/lib/python3.10/dist-packages/google/colab/drive.py\u001b[0m in \u001b[0;36m_mount\u001b[0;34m(mountpoint, force_remount, timeout_ms, ephemeral, readonly)\u001b[0m\n\u001b[1;32m    131\u001b[0m   )\n\u001b[1;32m    132\u001b[0m   \u001b[0;32mif\u001b[0m \u001b[0mephemeral\u001b[0m\u001b[0;34m:\u001b[0m\u001b[0;34m\u001b[0m\u001b[0;34m\u001b[0m\u001b[0m\n\u001b[0;32m--> 133\u001b[0;31m     _message.blocking_request(\n\u001b[0m\u001b[1;32m    134\u001b[0m         \u001b[0;34m'request_auth'\u001b[0m\u001b[0;34m,\u001b[0m \u001b[0mrequest\u001b[0m\u001b[0;34m=\u001b[0m\u001b[0;34m{\u001b[0m\u001b[0;34m'authType'\u001b[0m\u001b[0;34m:\u001b[0m \u001b[0;34m'dfs_ephemeral'\u001b[0m\u001b[0;34m}\u001b[0m\u001b[0;34m,\u001b[0m \u001b[0mtimeout_sec\u001b[0m\u001b[0;34m=\u001b[0m\u001b[0;32mNone\u001b[0m\u001b[0;34m\u001b[0m\u001b[0;34m\u001b[0m\u001b[0m\n\u001b[1;32m    135\u001b[0m     )\n",
            "\u001b[0;32m/usr/local/lib/python3.10/dist-packages/google/colab/_message.py\u001b[0m in \u001b[0;36mblocking_request\u001b[0;34m(request_type, request, timeout_sec, parent)\u001b[0m\n\u001b[1;32m    174\u001b[0m       \u001b[0mrequest_type\u001b[0m\u001b[0;34m,\u001b[0m \u001b[0mrequest\u001b[0m\u001b[0;34m,\u001b[0m \u001b[0mparent\u001b[0m\u001b[0;34m=\u001b[0m\u001b[0mparent\u001b[0m\u001b[0;34m,\u001b[0m \u001b[0mexpect_reply\u001b[0m\u001b[0;34m=\u001b[0m\u001b[0;32mTrue\u001b[0m\u001b[0;34m\u001b[0m\u001b[0;34m\u001b[0m\u001b[0m\n\u001b[1;32m    175\u001b[0m   )\n\u001b[0;32m--> 176\u001b[0;31m   \u001b[0;32mreturn\u001b[0m \u001b[0mread_reply_from_input\u001b[0m\u001b[0;34m(\u001b[0m\u001b[0mrequest_id\u001b[0m\u001b[0;34m,\u001b[0m \u001b[0mtimeout_sec\u001b[0m\u001b[0;34m)\u001b[0m\u001b[0;34m\u001b[0m\u001b[0;34m\u001b[0m\u001b[0m\n\u001b[0m",
            "\u001b[0;32m/usr/local/lib/python3.10/dist-packages/google/colab/_message.py\u001b[0m in \u001b[0;36mread_reply_from_input\u001b[0;34m(message_id, timeout_sec)\u001b[0m\n\u001b[1;32m    101\u001b[0m     ):\n\u001b[1;32m    102\u001b[0m       \u001b[0;32mif\u001b[0m \u001b[0;34m'error'\u001b[0m \u001b[0;32min\u001b[0m \u001b[0mreply\u001b[0m\u001b[0;34m:\u001b[0m\u001b[0;34m\u001b[0m\u001b[0;34m\u001b[0m\u001b[0m\n\u001b[0;32m--> 103\u001b[0;31m         \u001b[0;32mraise\u001b[0m \u001b[0mMessageError\u001b[0m\u001b[0;34m(\u001b[0m\u001b[0mreply\u001b[0m\u001b[0;34m[\u001b[0m\u001b[0;34m'error'\u001b[0m\u001b[0;34m]\u001b[0m\u001b[0;34m)\u001b[0m\u001b[0;34m\u001b[0m\u001b[0;34m\u001b[0m\u001b[0m\n\u001b[0m\u001b[1;32m    104\u001b[0m       \u001b[0;32mreturn\u001b[0m \u001b[0mreply\u001b[0m\u001b[0;34m.\u001b[0m\u001b[0mget\u001b[0m\u001b[0;34m(\u001b[0m\u001b[0;34m'data'\u001b[0m\u001b[0;34m,\u001b[0m \u001b[0;32mNone\u001b[0m\u001b[0;34m)\u001b[0m\u001b[0;34m\u001b[0m\u001b[0;34m\u001b[0m\u001b[0m\n\u001b[1;32m    105\u001b[0m \u001b[0;34m\u001b[0m\u001b[0m\n",
            "\u001b[0;31mMessageError\u001b[0m: Error: credential propagation was unsuccessful"
          ]
        }
      ]
    },
    {
      "cell_type": "code",
      "source": [
        "from IPython.display import clear_output\n",
        "\n",
        "!pip3 install pyprind\n",
        "\n",
        "clear_output()"
      ],
      "metadata": {
        "id": "hUT0FSfTbvoc"
      },
      "execution_count": null,
      "outputs": []
    },
    {
      "cell_type": "markdown",
      "source": [
        "# Instructions\n",
        "\n",
        "* Clone the notebook to your drive.\n",
        "* The notebook has to be submitted in the form of a link giving us **view access**. Share this link in your application.\n",
        "\n",
        "* If you still have any queries, you can reach out to the [core team](https://www.notion.so/Club-Contacts-70a4823e0ae34f35a0aa5d479e449915)\n",
        "\n"
      ],
      "metadata": {
        "id": "q3APxWObeA_c"
      }
    },
    {
      "cell_type": "markdown",
      "source": [
        "# Common Technical Questionnaire\n"
      ],
      "metadata": {
        "id": "h0ojuzzfedsb"
      }
    },
    {
      "cell_type": "markdown",
      "source": [
        "### Question 1\n",
        "\n",
        "Supervised learning is a type of machine learning where the inputs and outputs are mapped through\n",
        "a family of equations, the machine learning model essentially picks the right curve to fit the data.\n",
        "Quantile Regression is a type of supervised learning technique used in statistics and economics. One\n",
        "advantage of quantile regression relative to ordinary least squares regression is that the quantile\n",
        "regression estimates are more robust against outliers in the response measurements.\n",
        "\n",
        "QuantileLossτ (y, ˆy) =\n",
        "{\n",
        "\n",
        "                           τ · (y − ˆy) if y > ˆy\n",
        "\n",
        "                          (1 − τ ) · (ˆy − y) if y ≤ ˆy\n",
        "}\n",
        "\n",
        "where τ is Quantile whose value lies between 0 and 1.\n",
        "Please use this template provided and make changes accordingly for this question alone.\n",
        "Implement a simple Neural Network consisting of 4 nodes, one hidden layer consisting of 5 nodes\n",
        "and output layer consisting of two nodes. Perform quantile regression on the model and observe\n",
        "the loss.\n",
        "**Bonus: Play around with the value of τ to find what value achieves convergence quicker.**\n",
        "\n"
      ],
      "metadata": {
        "id": "IFnXRXAWVSkZ"
      }
    },
    {
      "cell_type": "markdown",
      "source": [
        "An example implementation of a simple manual neural network is provided. You may use this as inspiration to complete the task at hand."
      ],
      "metadata": {
        "id": "7bKBykeUZtMq"
      }
    },
    {
      "cell_type": "code",
      "source": [
        "# Imports\n",
        "\n",
        "import torch"
      ],
      "metadata": {
        "id": "y5YhkW3jE58O"
      },
      "execution_count": null,
      "outputs": []
    },
    {
      "cell_type": "code",
      "source": [
        "# Initializing the Parameters and the Variables\n",
        "# y = a*x + b\n",
        "torch.set_grad_enabled(True)\n",
        "\n",
        "def loss_function(output, target):\n",
        "  # f=torch.zeros(2,2)\n",
        "  # for i in range(0,2):\n",
        "  #   for j in range(0,2):\n",
        "  #     h=output[i][j]-target[i][j]\n",
        "  #     if h.item()>0:\n",
        "  #       f[i][j]=t*(h)\n",
        "  #     else:\n",
        "  #       f[i][j]=(t-1)*(h)\n",
        "  # loss=torch.mean(f)\n",
        "  error = output-target\n",
        "  loss= torch.mean(torch.max(t*error,(t-1)*error)) #Fill the loss function here\n",
        "  return loss\n",
        "\n",
        "\n",
        "x = torch.rand((2, 4), requires_grad=False)\n",
        "y = torch.rand((2, 2), requires_grad=False)\n",
        "\n",
        "\n",
        "for i in range(1,10,1):  #itrating for different values of t\n",
        "\n",
        "  t=i/10\n",
        "  print('t=',i/10)\n",
        "  a0 = torch.rand((4, 5), requires_grad=True)\n",
        "  b0 = torch.rand((2, 5), requires_grad=True)\n",
        "\n",
        "  a1 = torch.rand((5,2), requires_grad=True)     #For the output layer.    Fill in the dimensions appropriately\n",
        "  b1 = torch.rand((2,2), requires_grad=True)\n",
        "  print(y)\n",
        "  for l in range (5000):#forward passing\n",
        "    y1 = x@a0 + b0\n",
        "    y_pred= y1@a1 + b1                              #Fill in the matrix multiplication equation\n",
        " # Computing Loss\n",
        "    loss = loss_function(y_pred, y)\n",
        " # Back Propogation\n",
        "    loss.backward()\n",
        "\n",
        "# Updating Gradients\n",
        "    with torch.no_grad():\n",
        "      a0 = a0 - 0.001*a0.grad\n",
        "      a0.requires_grad=True\n",
        "      b0 = b0 - 0.001*b0.grad\n",
        "      b0.requires_grad=True\n",
        "      a1 = a1 - 0.001*a1.grad\n",
        "      a1.requires_grad=True\n",
        "      b1 = b1 - 0.001*b1.grad\n",
        "      b1.requires_grad=True\n",
        "\n",
        "  print(loss.item())\n",
        "  print(\"for t =\",i/10,\"  \",y_pred)\n",
        "\n"
      ],
      "metadata": {
        "id": "QLTjUKFBXKIP",
        "colab": {
          "base_uri": "https://localhost:8080/"
        },
        "outputId": "0a9f3fac-8530-49d4-ab44-70052a17b626"
      },
      "execution_count": null,
      "outputs": [
        {
          "output_type": "stream",
          "name": "stdout",
          "text": [
            "t= 0.1\n",
            "tensor([[0.0150, 0.3208],\n",
            "        [0.9479, 0.6811]])\n",
            "0.018151847645640373\n",
            "for t = 0.1    tensor([[0.7289, 0.3252],\n",
            "        [0.9475, 0.6855]], grad_fn=<AddBackward0>)\n",
            "t= 0.2\n",
            "tensor([[0.0150, 0.3208],\n",
            "        [0.9479, 0.6811]])\n",
            "0.027162091806530952\n",
            "for t = 0.2    tensor([[0.5568, 0.3217],\n",
            "        [0.9485, 0.6811]], grad_fn=<AddBackward0>)\n",
            "t= 0.3\n",
            "tensor([[0.0150, 0.3208],\n",
            "        [0.9479, 0.6811]])\n",
            "0.05937808007001877\n",
            "for t = 0.3    tensor([[0.8051, 0.3206],\n",
            "        [0.9476, 0.6810]], grad_fn=<AddBackward0>)\n",
            "t= 0.4\n",
            "tensor([[0.0150, 0.3208],\n",
            "        [0.9479, 0.6811]])\n",
            "0.0011655668495222926\n",
            "for t = 0.4    tensor([[0.0209, 0.3197],\n",
            "        [0.9516, 0.6808]], grad_fn=<AddBackward0>)\n",
            "t= 0.5\n",
            "tensor([[0.0150, 0.3208],\n",
            "        [0.9479, 0.6811]])\n",
            "0.01592642441391945\n",
            "for t = 0.5    tensor([[0.1400, 0.3210],\n",
            "        [0.9482, 0.6831]], grad_fn=<AddBackward0>)\n",
            "t= 0.6\n",
            "tensor([[0.0150, 0.3208],\n",
            "        [0.9479, 0.6811]])\n",
            "0.00042732732254080474\n",
            "for t = 0.6    tensor([[0.0146, 0.3188],\n",
            "        [0.9477, 0.6795]], grad_fn=<AddBackward0>)\n",
            "t= 0.7\n",
            "tensor([[0.0150, 0.3208],\n",
            "        [0.9479, 0.6811]])\n",
            "0.04625801742076874\n",
            "for t = 0.7    tensor([[0.0157, 0.3205],\n",
            "        [0.4139, 0.6002]], grad_fn=<AddBackward0>)\n",
            "t= 0.8\n",
            "tensor([[0.0150, 0.3208],\n",
            "        [0.9479, 0.6811]])\n",
            "0.02466426230967045\n",
            "for t = 0.8    tensor([[0.0136, 0.3216],\n",
            "        [0.4618, 0.6818]], grad_fn=<AddBackward0>)\n",
            "t= 0.9\n",
            "tensor([[0.0150, 0.3208],\n",
            "        [0.9479, 0.6811]])\n",
            "0.03255826607346535\n",
            "for t = 0.9    tensor([[0.0150, 0.3192],\n",
            "        [0.0826, 0.2459]], grad_fn=<AddBackward0>)\n"
          ]
        }
      ]
    },
    {
      "cell_type": "markdown",
      "source": [
        "---"
      ],
      "metadata": {
        "id": "izhl-9Wta_uu"
      }
    },
    {
      "cell_type": "code",
      "source": [
        "#so ofr quantile=0.6 we got our best result"
      ],
      "metadata": {
        "id": "Jsm2TtqiDuZ-"
      },
      "execution_count": null,
      "outputs": []
    }
  ]
}